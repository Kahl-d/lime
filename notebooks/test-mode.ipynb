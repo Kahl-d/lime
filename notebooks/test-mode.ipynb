{
 "cells": [
  {
   "cell_type": "code",
   "execution_count": 7,
   "metadata": {},
   "outputs": [
    {
     "name": "stdout",
     "output_type": "stream",
     "text": [
      "Defaulting to user installation because normal site-packages is not writeable\n",
      "Requirement already satisfied: pandas in /Users/923673423/.local/lib/python3.9/site-packages (2.2.3)\n",
      "Requirement already satisfied: numpy>=1.22.4; python_version < \"3.11\" in /Users/923673423/.local/lib/python3.9/site-packages (from pandas) (2.0.2)\n",
      "Requirement already satisfied: tzdata>=2022.7 in /Users/923673423/.local/lib/python3.9/site-packages (from pandas) (2024.2)\n",
      "Requirement already satisfied: pytz>=2020.1 in /Users/923673423/.local/lib/python3.9/site-packages (from pandas) (2024.2)\n",
      "Requirement already satisfied: python-dateutil>=2.8.2 in /Users/923673423/.local/lib/python3.9/site-packages (from pandas) (2.9.0.post0)\n",
      "Requirement already satisfied: six>=1.5 in /Users/923673423/.local/lib/python3.9/site-packages (from python-dateutil>=2.8.2->pandas) (1.17.0)\n",
      "Note: you may need to restart the kernel to use updated packages.\n"
     ]
    }
   ],
   "source": [
    "pip install pandas\n"
   ]
  },
  {
   "cell_type": "code",
   "execution_count": 8,
   "metadata": {},
   "outputs": [
    {
     "name": "stdout",
     "output_type": "stream",
     "text": [
      "Defaulting to user installation because normal site-packages is not writeable\n",
      "Collecting datasets\n",
      "  Downloading datasets-3.1.0-py3-none-any.whl (480 kB)\n",
      "\u001b[K     |████████████████████████████████| 480 kB 20.7 MB/s eta 0:00:01\n",
      "\u001b[?25hCollecting transformers\n",
      "  Downloading transformers-4.47.0-py3-none-any.whl (10.1 MB)\n",
      "\u001b[K     |████████████████████████████████| 10.1 MB 39.6 MB/s eta 0:00:01\n",
      "\u001b[?25hCollecting pyyaml>=5.1\n",
      "  Downloading PyYAML-6.0.2-cp39-cp39-manylinux_2_17_x86_64.manylinux2014_x86_64.whl (737 kB)\n",
      "\u001b[K     |████████████████████████████████| 737 kB 9.3 MB/s eta 0:00:01\n",
      "\u001b[?25hCollecting fsspec[http]<=2024.9.0,>=2023.1.0\n",
      "  Downloading fsspec-2024.9.0-py3-none-any.whl (179 kB)\n",
      "\u001b[K     |████████████████████████████████| 179 kB 68.7 MB/s eta 0:00:01\n",
      "\u001b[?25hCollecting pyarrow>=15.0.0\n",
      "  Downloading pyarrow-18.1.0-cp39-cp39-manylinux_2_17_x86_64.manylinux2014_x86_64.whl (40.1 MB)\n",
      "\u001b[K     |████████████████████████████████| 40.1 MB 17.6 MB/s eta 0:00:01\n",
      "\u001b[?25hRequirement already satisfied: pandas in /Users/923673423/.local/lib/python3.9/site-packages (from datasets) (2.2.3)\n",
      "Collecting aiohttp\n",
      "  Downloading aiohttp-3.11.10-cp39-cp39-manylinux_2_17_x86_64.manylinux2014_x86_64.whl (1.6 MB)\n",
      "\u001b[K     |████████████████████████████████| 1.6 MB 187.9 MB/s eta 0:00:01\n",
      "\u001b[?25hCollecting huggingface-hub>=0.23.0\n",
      "  Downloading huggingface_hub-0.26.5-py3-none-any.whl (447 kB)\n",
      "\u001b[K     |████████████████████████████████| 447 kB 188.3 MB/s eta 0:00:01\n",
      "\u001b[?25hCollecting filelock\n",
      "  Downloading filelock-3.16.1-py3-none-any.whl (16 kB)\n",
      "Collecting dill<0.3.9,>=0.3.0\n",
      "  Downloading dill-0.3.8-py3-none-any.whl (116 kB)\n",
      "\u001b[K     |████████████████████████████████| 116 kB 194.7 MB/s eta 0:00:01\n",
      "\u001b[?25hCollecting tqdm>=4.66.3\n",
      "  Downloading tqdm-4.67.1-py3-none-any.whl (78 kB)\n",
      "\u001b[K     |████████████████████████████████| 78 kB 5.5 MB/s s eta 0:00:01\n",
      "\u001b[?25hCollecting xxhash\n",
      "  Downloading xxhash-3.5.0-cp39-cp39-manylinux_2_17_x86_64.manylinux2014_x86_64.whl (193 kB)\n",
      "\u001b[K     |████████████████████████████████| 193 kB 182.0 MB/s eta 0:00:01\n",
      "\u001b[?25hRequirement already satisfied: packaging in /Users/923673423/.local/lib/python3.9/site-packages (from datasets) (24.2)\n",
      "Requirement already satisfied: numpy>=1.17 in /Users/923673423/.local/lib/python3.9/site-packages (from datasets) (2.0.2)\n",
      "Collecting requests>=2.32.2\n",
      "  Downloading requests-2.32.3-py3-none-any.whl (64 kB)\n",
      "\u001b[K     |████████████████████████████████| 64 kB 2.6 MB/s s eta 0:00:01\n",
      "\u001b[?25hCollecting multiprocess<0.70.17\n",
      "  Downloading multiprocess-0.70.16-py39-none-any.whl (133 kB)\n",
      "\u001b[K     |████████████████████████████████| 133 kB 193.8 MB/s eta 0:00:01\n",
      "\u001b[?25hCollecting tokenizers<0.22,>=0.21\n",
      "  Downloading tokenizers-0.21.0-cp39-abi3-manylinux_2_17_x86_64.manylinux2014_x86_64.whl (3.0 MB)\n",
      "\u001b[K     |████████████████████████████████| 3.0 MB 43.2 MB/s eta 0:00:01\n",
      "\u001b[?25hCollecting safetensors>=0.4.1\n",
      "  Downloading safetensors-0.4.5-cp39-cp39-manylinux_2_17_x86_64.manylinux2014_x86_64.whl (436 kB)\n",
      "\u001b[K     |████████████████████████████████| 436 kB 184.3 MB/s eta 0:00:01\n",
      "\u001b[?25hCollecting regex!=2019.12.17\n",
      "  Downloading regex-2024.11.6-cp39-cp39-manylinux_2_17_x86_64.manylinux2014_x86_64.whl (780 kB)\n",
      "\u001b[K     |████████████████████████████████| 780 kB 183.5 MB/s eta 0:00:01\n",
      "\u001b[?25hRequirement already satisfied: tzdata>=2022.7 in /Users/923673423/.local/lib/python3.9/site-packages (from pandas->datasets) (2024.2)\n",
      "Requirement already satisfied: python-dateutil>=2.8.2 in /Users/923673423/.local/lib/python3.9/site-packages (from pandas->datasets) (2.9.0.post0)\n",
      "Requirement already satisfied: pytz>=2020.1 in /Users/923673423/.local/lib/python3.9/site-packages (from pandas->datasets) (2024.2)\n",
      "Collecting yarl<2.0,>=1.17.0\n",
      "  Downloading yarl-1.18.3-cp39-cp39-manylinux_2_17_x86_64.manylinux2014_x86_64.whl (321 kB)\n",
      "\u001b[K     |████████████████████████████████| 321 kB 185.9 MB/s eta 0:00:01\n",
      "\u001b[?25hCollecting frozenlist>=1.1.1\n",
      "  Downloading frozenlist-1.5.0-cp39-cp39-manylinux_2_5_x86_64.manylinux1_x86_64.manylinux_2_17_x86_64.manylinux2014_x86_64.whl (242 kB)\n",
      "\u001b[K     |████████████████████████████████| 242 kB 193.4 MB/s eta 0:00:01\n",
      "\u001b[?25hCollecting aiosignal>=1.1.2\n",
      "  Downloading aiosignal-1.3.1-py3-none-any.whl (7.6 kB)\n",
      "Collecting multidict<7.0,>=4.5\n",
      "  Downloading multidict-6.1.0-cp39-cp39-manylinux_2_17_x86_64.manylinux2014_x86_64.whl (124 kB)\n",
      "\u001b[K     |████████████████████████████████| 124 kB 182.0 MB/s eta 0:00:01\n",
      "\u001b[?25hCollecting propcache>=0.2.0\n",
      "  Downloading propcache-0.2.1-cp39-cp39-manylinux_2_17_x86_64.manylinux2014_x86_64.whl (208 kB)\n",
      "\u001b[K     |████████████████████████████████| 208 kB 189.6 MB/s eta 0:00:01\n",
      "\u001b[?25hCollecting aiohappyeyeballs>=2.3.0\n",
      "  Downloading aiohappyeyeballs-2.4.4-py3-none-any.whl (14 kB)\n",
      "Collecting async-timeout<6.0,>=4.0; python_version < \"3.11\"\n",
      "  Downloading async_timeout-5.0.1-py3-none-any.whl (6.2 kB)\n",
      "Collecting attrs>=17.3.0\n",
      "  Downloading attrs-24.2.0-py3-none-any.whl (63 kB)\n",
      "\u001b[K     |████████████████████████████████| 63 kB 1.3 MB/s s eta 0:00:01\n",
      "\u001b[?25hRequirement already satisfied: typing-extensions>=3.7.4.3 in /Users/923673423/.local/lib/python3.9/site-packages (from huggingface-hub>=0.23.0->datasets) (4.12.2)\n",
      "Collecting charset-normalizer<4,>=2\n",
      "  Downloading charset_normalizer-3.4.0-cp39-cp39-manylinux_2_17_x86_64.manylinux2014_x86_64.whl (144 kB)\n",
      "\u001b[K     |████████████████████████████████| 144 kB 178.2 MB/s eta 0:00:01\n",
      "\u001b[?25hCollecting idna<4,>=2.5\n",
      "  Using cached idna-3.10-py3-none-any.whl (70 kB)\n",
      "Collecting certifi>=2017.4.17\n",
      "  Using cached certifi-2024.8.30-py3-none-any.whl (167 kB)\n",
      "Collecting urllib3<3,>=1.21.1\n",
      "  Downloading urllib3-2.2.3-py3-none-any.whl (126 kB)\n",
      "\u001b[K     |████████████████████████████████| 126 kB 195.1 MB/s eta 0:00:01\n",
      "\u001b[?25hRequirement already satisfied: six>=1.5 in /Users/923673423/.local/lib/python3.9/site-packages (from python-dateutil>=2.8.2->pandas->datasets) (1.17.0)\n",
      "Installing collected packages: pyyaml, propcache, multidict, idna, yarl, frozenlist, aiosignal, aiohappyeyeballs, async-timeout, attrs, aiohttp, fsspec, pyarrow, charset-normalizer, certifi, urllib3, requests, tqdm, filelock, huggingface-hub, dill, xxhash, multiprocess, datasets, tokenizers, safetensors, regex, transformers\n",
      "Successfully installed aiohappyeyeballs-2.4.4 aiohttp-3.11.10 aiosignal-1.3.1 async-timeout-5.0.1 attrs-24.2.0 certifi-2024.8.30 charset-normalizer-3.4.0 datasets-3.1.0 dill-0.3.8 filelock-3.16.1 frozenlist-1.5.0 fsspec-2024.9.0 huggingface-hub-0.26.5 idna-3.10 multidict-6.1.0 multiprocess-0.70.16 propcache-0.2.1 pyarrow-18.1.0 pyyaml-6.0.2 regex-2024.11.6 requests-2.32.3 safetensors-0.4.5 tokenizers-0.21.0 tqdm-4.67.1 transformers-4.47.0 urllib3-2.2.3 xxhash-3.5.0 yarl-1.18.3\n",
      "Note: you may need to restart the kernel to use updated packages.\n"
     ]
    }
   ],
   "source": [
    "pip install datasets transformers"
   ]
  },
  {
   "cell_type": "code",
   "execution_count": 10,
   "metadata": {},
   "outputs": [
    {
     "name": "stdout",
     "output_type": "stream",
     "text": [
      "Defaulting to user installation because normal site-packages is not writeable\n",
      "Collecting torch\n",
      "  Downloading torch-2.5.1-cp39-cp39-manylinux1_x86_64.whl (906.5 MB)\n",
      "\u001b[K     |████████████████████████████████| 906.5 MB 15 kB/s /s eta 0:00:01\n",
      "\u001b[?25hCollecting torchvision\n",
      "  Downloading torchvision-0.20.1-cp39-cp39-manylinux1_x86_64.whl (7.2 MB)\n",
      "\u001b[K     |████████████████████████████████| 7.2 MB 70.2 MB/s eta 0:00:01\n",
      "\u001b[?25hCollecting nvidia-cuda-cupti-cu12==12.4.127; platform_system == \"Linux\" and platform_machine == \"x86_64\"\n",
      "  Downloading nvidia_cuda_cupti_cu12-12.4.127-py3-none-manylinux2014_x86_64.whl (13.8 MB)\n",
      "\u001b[K     |████████████████████████████████| 13.8 MB 192.9 MB/s eta 0:00:01\n",
      "\u001b[?25hCollecting nvidia-cublas-cu12==12.4.5.8; platform_system == \"Linux\" and platform_machine == \"x86_64\"\n",
      "  Downloading nvidia_cublas_cu12-12.4.5.8-py3-none-manylinux2014_x86_64.whl (363.4 MB)\n",
      "\u001b[K     |████████████████████████████████| 363.4 MB 7.6 kB/s s eta 0:00:01\n",
      "\u001b[?25hRequirement already satisfied: filelock in /Users/923673423/.local/lib/python3.9/site-packages (from torch) (3.16.1)\n",
      "Collecting nvidia-nvjitlink-cu12==12.4.127; platform_system == \"Linux\" and platform_machine == \"x86_64\"\n",
      "  Downloading nvidia_nvjitlink_cu12-12.4.127-py3-none-manylinux2014_x86_64.whl (21.1 MB)\n",
      "\u001b[K     |████████████████████████████████| 21.1 MB 190.8 MB/s eta 0:00:01\n",
      "\u001b[?25hCollecting nvidia-cusparse-cu12==12.3.1.170; platform_system == \"Linux\" and platform_machine == \"x86_64\"\n",
      "  Downloading nvidia_cusparse_cu12-12.3.1.170-py3-none-manylinux2014_x86_64.whl (207.5 MB)\n",
      "\u001b[K     |████████████████████████████████| 207.5 MB 44 kB/s s eta 0:00:01\n",
      "\u001b[?25hCollecting nvidia-cusolver-cu12==11.6.1.9; platform_system == \"Linux\" and platform_machine == \"x86_64\"\n",
      "  Downloading nvidia_cusolver_cu12-11.6.1.9-py3-none-manylinux2014_x86_64.whl (127.9 MB)\n",
      "\u001b[K     |████████████████████████████████| 127.9 MB 236 kB/s  eta 0:00:01\n",
      "\u001b[?25hRequirement already satisfied: typing-extensions>=4.8.0 in /Users/923673423/.local/lib/python3.9/site-packages (from torch) (4.12.2)\n",
      "Collecting jinja2\n",
      "  Downloading jinja2-3.1.4-py3-none-any.whl (133 kB)\n",
      "\u001b[K     |████████████████████████████████| 133 kB 190.8 MB/s eta 0:00:01\n",
      "\u001b[?25hCollecting nvidia-cudnn-cu12==9.1.0.70; platform_system == \"Linux\" and platform_machine == \"x86_64\"\n",
      "  Downloading nvidia_cudnn_cu12-9.1.0.70-py3-none-manylinux2014_x86_64.whl (664.8 MB)\n",
      "\u001b[K     |████████████████████████████████| 664.8 MB 15 kB/s /s eta 0:00:01\n",
      "\u001b[?25hCollecting sympy==1.13.1; python_version >= \"3.9\"\n",
      "  Downloading sympy-1.13.1-py3-none-any.whl (6.2 MB)\n",
      "\u001b[K     |████████████████████████████████| 6.2 MB 194.7 MB/s eta 0:00:01\n",
      "\u001b[?25hCollecting nvidia-curand-cu12==10.3.5.147; platform_system == \"Linux\" and platform_machine == \"x86_64\"\n",
      "  Downloading nvidia_curand_cu12-10.3.5.147-py3-none-manylinux2014_x86_64.whl (56.3 MB)\n",
      "\u001b[K     |████████████████████████████████| 56.3 MB 198.7 MB/s eta 0:00:01\n",
      "\u001b[?25hRequirement already satisfied: fsspec in /Users/923673423/.local/lib/python3.9/site-packages (from torch) (2024.9.0)\n",
      "Collecting triton==3.1.0; platform_system == \"Linux\" and platform_machine == \"x86_64\" and python_version < \"3.13\"\n",
      "  Downloading triton-3.1.0-cp39-cp39-manylinux_2_17_x86_64.manylinux2014_x86_64.whl (209.5 MB)\n",
      "\u001b[K     |████████████████████████████████| 209.5 MB 22 kB/s /s eta 0:00:01\n",
      "\u001b[?25hCollecting nvidia-cuda-nvrtc-cu12==12.4.127; platform_system == \"Linux\" and platform_machine == \"x86_64\"\n",
      "  Downloading nvidia_cuda_nvrtc_cu12-12.4.127-py3-none-manylinux2014_x86_64.whl (24.6 MB)\n",
      "\u001b[K     |████████████████████████████████| 24.6 MB 180.4 MB/s eta 0:00:01\n",
      "\u001b[?25hCollecting networkx\n",
      "  Downloading networkx-3.2.1-py3-none-any.whl (1.6 MB)\n",
      "\u001b[K     |████████████████████████████████| 1.6 MB 179.3 MB/s eta 0:00:01\n",
      "\u001b[?25hCollecting nvidia-cufft-cu12==11.2.1.3; platform_system == \"Linux\" and platform_machine == \"x86_64\"\n",
      "  Downloading nvidia_cufft_cu12-11.2.1.3-py3-none-manylinux2014_x86_64.whl (211.5 MB)\n",
      "\u001b[K     |████████████████████████████████| 211.5 MB 54 kB/s /s eta 0:00:01████████████████▍               | 108.1 MB 188.3 MB/s eta 0:00:01\n",
      "\u001b[?25hCollecting nvidia-nvtx-cu12==12.4.127; platform_system == \"Linux\" and platform_machine == \"x86_64\"\n",
      "  Downloading nvidia_nvtx_cu12-12.4.127-py3-none-manylinux2014_x86_64.whl (99 kB)\n",
      "\u001b[K     |████████████████████████████████| 99 kB 9.0 MB/s s eta 0:00:01\n",
      "\u001b[?25hCollecting nvidia-nccl-cu12==2.21.5; platform_system == \"Linux\" and platform_machine == \"x86_64\"\n",
      "  Downloading nvidia_nccl_cu12-2.21.5-py3-none-manylinux2014_x86_64.whl (188.7 MB)\n",
      "\u001b[K     |████████████████████████████████| 188.7 MB 133.7 MB/s eta 0:00:01\n",
      "\u001b[?25hCollecting nvidia-cuda-runtime-cu12==12.4.127; platform_system == \"Linux\" and platform_machine == \"x86_64\"\n",
      "  Downloading nvidia_cuda_runtime_cu12-12.4.127-py3-none-manylinux2014_x86_64.whl (883 kB)\n",
      "\u001b[K     |████████████████████████████████| 883 kB 44.3 MB/s eta 0:00:010 kB 44.3 MB/s eta 0:00:01\n",
      "\u001b[?25hCollecting pillow!=8.3.*,>=5.3.0\n",
      "  Downloading pillow-11.0.0-cp39-cp39-manylinux_2_17_x86_64.manylinux2014_x86_64.whl (4.3 MB)\n",
      "\u001b[K     |████████████████████████████████| 4.3 MB 6.2 MB/s eta 0:00:01\n",
      "\u001b[?25hRequirement already satisfied: numpy in /Users/923673423/.local/lib/python3.9/site-packages (from torchvision) (2.0.2)\n",
      "Collecting MarkupSafe>=2.0\n",
      "  Downloading MarkupSafe-3.0.2-cp39-cp39-manylinux_2_17_x86_64.manylinux2014_x86_64.whl (20 kB)\n",
      "Collecting mpmath<1.4,>=1.1.0\n",
      "  Downloading mpmath-1.3.0-py3-none-any.whl (536 kB)\n",
      "\u001b[K     |████████████████████████████████| 536 kB 69.6 MB/s eta 0:00:01\n",
      "\u001b[?25hInstalling collected packages: nvidia-cuda-cupti-cu12, nvidia-cublas-cu12, nvidia-nvjitlink-cu12, nvidia-cusparse-cu12, nvidia-cusolver-cu12, MarkupSafe, jinja2, nvidia-cudnn-cu12, mpmath, sympy, nvidia-curand-cu12, triton, nvidia-cuda-nvrtc-cu12, networkx, nvidia-cufft-cu12, nvidia-nvtx-cu12, nvidia-nccl-cu12, nvidia-cuda-runtime-cu12, torch, pillow, torchvision\n",
      "Successfully installed MarkupSafe-3.0.2 jinja2-3.1.4 mpmath-1.3.0 networkx-3.2.1 nvidia-cublas-cu12-12.4.5.8 nvidia-cuda-cupti-cu12-12.4.127 nvidia-cuda-nvrtc-cu12-12.4.127 nvidia-cuda-runtime-cu12-12.4.127 nvidia-cudnn-cu12-9.1.0.70 nvidia-cufft-cu12-11.2.1.3 nvidia-curand-cu12-10.3.5.147 nvidia-cusolver-cu12-11.6.1.9 nvidia-cusparse-cu12-12.3.1.170 nvidia-nccl-cu12-2.21.5 nvidia-nvjitlink-cu12-12.4.127 nvidia-nvtx-cu12-12.4.127 pillow-11.0.0 sympy-1.13.1 torch-2.5.1 torchvision-0.20.1 triton-3.1.0\n",
      "Note: you may need to restart the kernel to use updated packages.\n"
     ]
    }
   ],
   "source": [
    "pip install torch torchvision "
   ]
  },
  {
   "cell_type": "code",
   "execution_count": 34,
   "metadata": {},
   "outputs": [],
   "source": [
    "import pandas as pd \n",
    "from transformers import AutoTokenizer, AutoModelForMaskedLM\n",
    "\n",
    "# Load the fine-tuned model and tokenizer\n",
    "model_path = \"/Users/923673423/lime/fine_tuned_model\"\n",
    "tokenizer = AutoTokenizer.from_pretrained(model_path)\n",
    "model = AutoModelForMaskedLM.from_pretrained(model_path)"
   ]
  },
  {
   "cell_type": "code",
   "execution_count": 35,
   "metadata": {},
   "outputs": [],
   "source": [
    "# Define a test text with a [MASK] token\n",
    "test_text = (\n",
    "    \"The individual is 20 years old and lives in a household with [MASK] members. \"\n",
    "    \"Their body mass index (BMI) is 24.5, which indicates they are in the normal range.\"\n",
    ")"
   ]
  },
  {
   "cell_type": "code",
   "execution_count": 36,
   "metadata": {},
   "outputs": [],
   "source": [
    "import torch\n",
    "# Tokenize the test text\n",
    "inputs = tokenizer(test_text, return_tensors=\"pt\")\n",
    "\n",
    "# Get model predictions\n",
    "with torch.no_grad():\n",
    "    outputs = model(**inputs)\n",
    "    predictions = outputs.logits"
   ]
  },
  {
   "cell_type": "code",
   "execution_count": 37,
   "metadata": {},
   "outputs": [
    {
     "name": "stdout",
     "output_type": "stream",
     "text": [
      "Input text: The individual is 20 years old and lives in a household with [MASK] members. Their body mass index (BMI) is 24.5, which indicates they are in the normal range.\n",
      "Predicted tokens for [MASK]: ['7', '2', '5', '4', '1']\n"
     ]
    }
   ],
   "source": [
    "# Find the index of the [MASK] token\n",
    "mask_token_index = torch.where(inputs.input_ids == tokenizer.mask_token_id)[1]\n",
    "\n",
    "# Get the top 5 predictions for the [MASK] token\n",
    "predicted_token_ids = predictions[0, mask_token_index].topk(5).indices.squeeze().tolist()\n",
    "predicted_tokens = [tokenizer.decode(token_id).strip() for token_id in predicted_token_ids]\n",
    "\n",
    "# Display results\n",
    "print(\"Input text:\", test_text)\n",
    "print(\"Predicted tokens for [MASK]:\", predicted_tokens)"
   ]
  },
  {
   "cell_type": "code",
   "execution_count": 38,
   "metadata": {},
   "outputs": [],
   "source": [
    "data = pd.read_csv('/Users/923673423/lime/data/data_class.csv')\n",
    "\n",
    "data = data.rename(columns={\n",
    "    'Unnamed: 0': 'Index',\n",
    "    'SEQN': 'Sequence Number',\n",
    "    'RIAGENDR': 'Gender',\n",
    "    'RIDAGEYR': 'Age',\n",
    "    'DMDHHSIZ': 'Household Size',\n",
    "    'INDFMPIR': 'Income Poverty Ratio',\n",
    "    'BMXBMI': 'Body Mass Index',\n",
    "    'DSD010': 'Diet Question One',\n",
    "    'DSD010AN': 'Diet Question Alternate',\n",
    "    'SMD415': 'Smoking Status',\n",
    "    'PAD590': 'Physical Activity One',\n",
    "    'PAD600': 'Physical Activity Two',\n",
    "    'HUQ010': 'Health Status',\n",
    "    'restaurant': 'Restaurant Visits',\n",
    "    'protein': 'Protein Intake',\n",
    "    'healthy': 'Healthy Food Intake',\n",
    "    'unhealthy': 'Unhealthy Food Intake',\n",
    "    'beverage': 'Beverage Consumption',\n",
    "    'milk': 'Milk Consumption',\n",
    "    'MCQ010': 'Medical Condition One',\n",
    "    'MCQ053': 'Medical Condition Two',\n",
    "    'MCQ092': 'Medical Condition Three',\n",
    "    'MCQ140': 'Medical Condition Four',\n",
    "    'active': 'Physical Activity Status'\n",
    "})\n",
    "\n",
    "\n",
    "# Define a function to generate text descriptions for each row\n",
    "def generate_text_descriptions(data):\n",
    "    \"\"\"\n",
    "    Generate detailed text descriptions for each row in the dataset.\n",
    "\n",
    "    Args:\n",
    "        data (pd.DataFrame): The dataset to describe.\n",
    "\n",
    "    Returns:\n",
    "        pd.Series: A series of text descriptions for each row.\n",
    "    \"\"\"\n",
    "    descriptions = []\n",
    "\n",
    "    for _, row in data.iterrows():\n",
    "        description = (\n",
    "        f\"The individual is {'male' if row['Gender'] == 1 else 'female'} and is {row['Age']} years old. \"\n",
    "        f\"They live in a household with {row['Household Size']} members. Their income-to-poverty ratio is {row['Income Poverty Ratio']:.2f}, \"\n",
    "        f\"which is {'below average' if row['Income Poverty Ratio'] < 1 else 'moderate' if 1 <= row['Income Poverty Ratio'] <= 3 else 'above average'}. \"\n",
    "        f\"Their body mass index (BMI) is {row['Body Mass Index']:.1f}, calculated from their weight and height. This indicates they are \"\n",
    "        f\"{'underweight' if row['Body Mass Index'] < 18.5 else 'in the normal range' if 18.5 <= row['Body Mass Index'] < 25 else 'overweight' if 25 <= row['Body Mass Index'] < 30 else 'obese'}. \"\n",
    "        f\"They answered '{row['Diet Question One']}' to a question about their dietary habits, and '{row['Diet Question Alternate']}' to an alternate dietary question. \"\n",
    "        f\"They currently {'do not smoke' if row['Smoking Status'] == 'No' else 'are smokers'}, and their physical activity includes {row['Physical Activity One']} minutes \"\n",
    "        f\"of moderate-intensity activity and {row['Physical Activity Two']} minutes of vigorous-intensity activity weekly. \"\n",
    "        f\"Their self-reported health status is {row['Health Status']} out of 5. \"\n",
    "        f\"On average, they visit restaurants {row['Restaurant Visits']} times per month and consume {row['Protein Intake']} grams of protein daily. \"\n",
    "        f\"Their healthy food intake is {row['Healthy Food Intake']} servings per day, compared to an unhealthy food intake of {row['Unhealthy Food Intake']} servings per day. \"\n",
    "        f\"They drink {row['Beverage Consumption']} beverages daily and consume {row['Milk Consumption']} cups of milk daily. \"\n",
    "        f\"Their reported medical conditions include: Condition One={row['Medical Condition One']}, Condition Two={row['Medical Condition Two']}, \"\n",
    "        f\"Condition Three={row['Medical Condition Three']}, and Condition Four={row['Medical Condition Four']}. \"\n",
    "        f\"Their overall physical activity status is {row['Physical Activity Status']}, which reflects their general lifestyle and fitness.\"\n",
    "    )\n",
    "        descriptions.append(description)\n",
    "\n",
    "    return pd.Series(descriptions)\n",
    "\n",
    "# Generate text descriptions for the dataset\n",
    "data['Text_Description'] = generate_text_descriptions(data)"
   ]
  },
  {
   "cell_type": "code",
   "execution_count": 39,
   "metadata": {},
   "outputs": [
    {
     "data": {
      "text/plain": [
       "\"The individual is male and is 19.0 years old. They live in a household with 2.0 members. Their income-to-poverty ratio is 2.44, which is moderate. Their body mass index (BMI) is 50.9, calculated from their weight and height. This indicates they are obese. They answered '0.0' to a question about their dietary habits, and '0.0' to an alternate dietary question. They currently are smokers, and their physical activity includes 4.0 minutes of moderate-intensity activity and 3.0 minutes of vigorous-intensity activity weekly. Their self-reported health status is 3.0 out of 5. On average, they visit restaurants 0.0 times per month and consume 82.0 grams of protein daily. Their healthy food intake is 73.0 servings per day, compared to an unhealthy food intake of 108.0 servings per day. They drink 3.0 beverages daily and consume 10.0 cups of milk daily. Their reported medical conditions include: Condition One=0.0, Condition Two=0.0, Condition Three=0.0, and Condition Four=0.0. Their overall physical activity status is 1.0, which reflects their general lifestyle and fitness.\""
      ]
     },
     "execution_count": 39,
     "metadata": {},
     "output_type": "execute_result"
    }
   ],
   "source": [
    "data['Text_Description'][0]"
   ]
  },
  {
   "cell_type": "code",
   "execution_count": 40,
   "metadata": {},
   "outputs": [],
   "source": [
    "test_row = \"The individual is male and is 19.0 years old. They live in a household with 2.0 members. Their income-to-poverty ratio is 2.44, which is moderate. Their body mass index (BMI) is [MASK], calculated from their weight and height. This indicates they are obese. They answered '0.0' to a question about their dietary habits, and '0.0' to an alternate dietary question. They currently are smokers, and their physical activity includes 4.0 minutes of moderate-intensity activity and 3.0 minutes of vigorous-intensity activity weekly. Their self-reported health status is 3.0 out of 5. On average, they visit restaurants 0.0 times per month and consume 82.0 grams of protein daily. Their healthy food intake is 73.0 servings per day, compared to an unhealthy food intake of 108.0 servings per day. They drink 3.0 beverages daily and consume 10.0 cups of milk daily. Their reported medical conditions include: Condition One=0.0, Condition Two=0.0, Condition Three=0.0, and Condition Four=0.0. Their overall physical activity status is 1.0, which reflects their general lifestyle and fitness.\""
   ]
  },
  {
   "cell_type": "code",
   "execution_count": 41,
   "metadata": {},
   "outputs": [],
   "source": [
    "import torch\n",
    "# Tokenize the test text\n",
    "inputs = tokenizer(test_row, return_tensors=\"pt\")\n",
    "\n",
    "# Get model predictions\n",
    "with torch.no_grad():\n",
    "    outputs = model(**inputs)\n",
    "    predictions = outputs.logits"
   ]
  },
  {
   "cell_type": "code",
   "execution_count": 42,
   "metadata": {},
   "outputs": [
    {
     "name": "stdout",
     "output_type": "stream",
     "text": [
      "Input text: The individual is male and is 19.0 years old. They live in a household with 2.0 members. Their income-to-poverty ratio is 2.44, which is moderate. Their body mass index (BMI) is [MASK], calculated from their weight and height. This indicates they are obese. They answered '0.0' to a question about their dietary habits, and '0.0' to an alternate dietary question. They currently are smokers, and their physical activity includes 4.0 minutes of moderate-intensity activity and 3.0 minutes of vigorous-intensity activity weekly. Their self-reported health status is 3.0 out of 5. On average, they visit restaurants 0.0 times per month and consume 82.0 grams of protein daily. Their healthy food intake is 73.0 servings per day, compared to an unhealthy food intake of 108.0 servings per day. They drink 3.0 beverages daily and consume 10.0 cups of milk daily. Their reported medical conditions include: Condition One=0.0, Condition Two=0.0, Condition Three=0.0, and Condition Four=0.0. Their overall physical activity status is 1.0, which reflects their general lifestyle and fitness.\n",
      "Predicted tokens for [MASK]: ['30', '31', '32', '33', '34']\n"
     ]
    }
   ],
   "source": [
    "# Find the index of the [MASK] token\n",
    "mask_token_index = torch.where(inputs.input_ids == tokenizer.mask_token_id)[1]\n",
    "\n",
    "# Get the top 5 predictions for the [MASK] token\n",
    "predicted_token_ids = predictions[0, mask_token_index].topk(5).indices.squeeze().tolist()\n",
    "predicted_tokens = [tokenizer.decode(token_id).strip() for token_id in predicted_token_ids]\n",
    "\n",
    "# Display results\n",
    "print(\"Input text:\", test_row)\n",
    "print(\"Predicted tokens for [MASK]:\", predicted_tokens)"
   ]
  },
  {
   "cell_type": "code",
   "execution_count": null,
   "metadata": {},
   "outputs": [],
   "source": [
    "def generate_description_with_mask(row, mask_token=\"[MASK]\", columns_to_mask=None):\n",
    "    \"\"\"\n",
    "    Generate a description for a row with specified columns masked.\n",
    "\n",
    "    Args:\n",
    "        row (pd.Series): Row of data.\n",
    "        mask_token (str): The token to use for masking.\n",
    "        columns_to_mask (list): List of column names to mask.\n",
    "\n",
    "    Returns:\n",
    "        str: Description with specified values replaced by the mask token.\n",
    "    \"\"\"\n",
    "    description = (\n",
    "        f\"The individual is {'male' if row['Gender'] == 1 else 'female'} and is \"\n",
    "        f\"{mask_token if 'Age' in columns_to_mask else row['Age']} years old. \"\n",
    "        f\"They live in a household with \"\n",
    "        f\"{mask_token if 'Household Size' in columns_to_mask else row['Household Size']} members. \"\n",
    "        f\"Their income-to-poverty ratio is {row['Income Poverty Ratio']:.2f}, \"\n",
    "        f\"which is {'below average' if row['Income Poverty Ratio'] < 1 else 'moderate' if 1 <= row['Income Poverty Ratio'] <= 3 else 'above average'}. \"\n",
    "        f\"Their body mass index (BMI) is \"\n",
    "        f\"{mask_token if 'Body Mass Index' in columns_to_mask else row['Body Mass Index']:.1f}, \"\n",
    "        f\"calculated from their weight and height. This indicates they are \"\n",
    "        f\"{'underweight' if row['Body Mass Index'] < 18.5 else 'in the normal range' if 18.5 <= row['Body Mass Index'] < 25 else 'overweight' if 25 <= row['Body Mass Index'] < 30 else 'obese'}. \"\n",
    "        f\"They answered '{row['Diet Question One']}' to a question about their dietary habits, and '{row['Diet Question Alternate']}' to an alternate dietary question. \"\n",
    "        f\"They currently {'do not smoke' if row['Smoking Status'] == 'No' else 'are smokers'}, and their physical activity includes \"\n",
    "        f\"{mask_token if 'Physical Activity One' in columns_to_mask else row['Physical Activity One']} minutes \"\n",
    "        f\"of moderate-intensity activity and {row['Physical Activity Two']} minutes of vigorous-intensity activity weekly. \"\n",
    "        f\"Their self-reported health status is {row['Health Status']} out of 5. \"\n",
    "        f\"On average, they visit restaurants {row['Restaurant Visits']} times per month and consume \"\n",
    "        f\"{mask_token if 'Protein Intake' in columns_to_mask else row['Protein Intake']} grams of protein daily. \"\n",
    "        f\"Their healthy food intake is {row['Healthy Food Intake']} servings per day, compared to an unhealthy food intake of \"\n",
    "        f\"{row['Unhealthy Food Intake']} servings per day. \"\n",
    "        f\"They drink {row['Beverage Consumption']} beverages daily and consume {row['Milk Consumption']} cups of milk daily. \"\n",
    "        f\"Their reported medical conditions include: Condition One={row['Medical Condition One']}, Condition Two={row['Medical Condition Two']}, \"\n",
    "        f\"Condition Three={row['Medical Condition Three']}, and Condition Four={row['Medical Condition Four']}. \"\n",
    "        f\"Their overall physical activity status is {row['Physical Activity Status']}, which reflects their general lifestyle and fitness.\"\n",
    "    )\n",
    "    return description"
   ]
  }
 ],
 "metadata": {
  "kernelspec": {
   "display_name": "Python 3",
   "language": "python",
   "name": "python3"
  },
  "language_info": {
   "codemirror_mode": {
    "name": "ipython",
    "version": 3
   },
   "file_extension": ".py",
   "mimetype": "text/x-python",
   "name": "python",
   "nbconvert_exporter": "python",
   "pygments_lexer": "ipython3",
   "version": "3.9.18"
  }
 },
 "nbformat": 4,
 "nbformat_minor": 2
}
